{
 "cells": [
  {
   "cell_type": "code",
   "execution_count": 1,
   "metadata": {},
   "outputs": [],
   "source": [
    "# while <condition>:\n",
    "#     <opertaion>\n",
    "    "
   ]
  },
  {
   "cell_type": "code",
   "execution_count": 2,
   "metadata": {},
   "outputs": [
    {
     "name": "stdout",
     "output_type": "stream",
     "text": [
      "hello world\n",
      "hello world\n",
      "hello world\n",
      "hello world\n",
      "hello world\n"
     ]
    }
   ],
   "source": [
    "a = 0\n",
    "while a<5:\n",
    "    print(\"hello world\")\n",
    "    a = a+1\n",
    "    "
   ]
  },
  {
   "cell_type": "code",
   "execution_count": 5,
   "metadata": {},
   "outputs": [
    {
     "name": "stdout",
     "output_type": "stream",
     "text": [
      "enter num2\n",
      "enter num3\n",
      "enter num4\n",
      "7\n"
     ]
    }
   ],
   "source": [
    "a=1\n",
    "s =0\n",
    "n = int(input(\"enter num\"))\n",
    "while a<=n:\n",
    "    x= int(input(\"enter num\"))\n",
    "    s = s+x\n",
    "    a = a+1\n",
    "print(s)"
   ]
  },
  {
   "cell_type": "code",
   "execution_count": 6,
   "metadata": {},
   "outputs": [
    {
     "name": "stdout",
     "output_type": "stream",
     "text": [
      "enter num 3\n",
      "3\n",
      "6\n",
      "9\n",
      "12\n",
      "15\n",
      "18\n",
      "21\n",
      "24\n",
      "27\n",
      "30\n"
     ]
    }
   ],
   "source": [
    "a =1\n",
    "n= int(input(\"enter num \"))\n",
    "while a<=10:\n",
    "    print(n*a)\n",
    "    a+=1\n"
   ]
  },
  {
   "cell_type": "code",
   "execution_count": 7,
   "metadata": {},
   "outputs": [
    {
     "name": "stdout",
     "output_type": "stream",
     "text": [
      "enter num 2\n",
      "enter name r\n",
      "enter name e\n",
      " r e\n"
     ]
    }
   ],
   "source": [
    "a = 1\n",
    "s =\"\"\n",
    "n = int(input(\"enter num \"))\n",
    "while a<=n:\n",
    "    name = input(\"enter name \")\n",
    "    s= s+\" \"+name\n",
    "    a = a+1\n",
    "print(s)"
   ]
  },
  {
   "cell_type": "code",
   "execution_count": null,
   "metadata": {},
   "outputs": [],
   "source": [
    "\n",
    "s =\"\"\n",
    "n = int(input(\"enter num \"))\n",
    "for i in range(n):\n",
    "    name = input(\"enter name \")\n",
    "    s= s+\" \"+name\n",
    "print(s)"
   ]
  },
  {
   "cell_type": "code",
   "execution_count": null,
   "metadata": {},
   "outputs": [],
   "source": [
    "s =\"\"\n",
    "n = int(input(\"enter num \"))\n",
    "for i in range(n):\n",
    "    name = input(\"enter name \")\n",
    "    phone= int(input(\"enter phone \"))\n",
    "    s= s+name+\" \"+str(phone)+\"\\n\"\n",
    "print(s)"
   ]
  },
  {
   "cell_type": "code",
   "execution_count": 1,
   "metadata": {},
   "outputs": [
    {
     "name": "stdout",
     "output_type": "stream",
     "text": [
      "enter num 2\n",
      "enter nameyyy\n",
      "enter ph. num 9809898989\n",
      "enter nameuu\n",
      "enter ph. num 9999999999\n",
      "yyy 9809898989\n",
      "uu 9999999999\n",
      "\n"
     ]
    }
   ],
   "source": [
    "a=1\n",
    "s =\"\"\n",
    "n = int(input(\"enter num \"))\n",
    "while a<=n:\n",
    "    name =input(\"enter name\")\n",
    "    phone=int(input(\"enter ph. num \"))\n",
    "    s = s+name+\" \"+str(phone)+\"\\n\"\n",
    "    a +=1\n",
    "print(s)"
   ]
  },
  {
   "cell_type": "code",
   "execution_count": 3,
   "metadata": {},
   "outputs": [
    {
     "name": "stdout",
     "output_type": "stream",
     "text": [
      "h e l l o w o r l d "
     ]
    },
    {
     "ename": "IndexError",
     "evalue": "string index out of range",
     "output_type": "error",
     "traceback": [
      "\u001b[1;31m---------------------------------------------------------------------------\u001b[0m",
      "\u001b[1;31mIndexError\u001b[0m                                Traceback (most recent call last)",
      "\u001b[1;32m<ipython-input-3-18a1983252bc>\u001b[0m in \u001b[0;36m<module>\u001b[1;34m\u001b[0m\n\u001b[0;32m      4\u001b[0m \u001b[0mn\u001b[0m \u001b[1;33m=\u001b[0m \u001b[0mlen\u001b[0m\u001b[1;33m(\u001b[0m\u001b[0ms\u001b[0m\u001b[1;33m)\u001b[0m\u001b[1;33m\u001b[0m\u001b[1;33m\u001b[0m\u001b[0m\n\u001b[0;32m      5\u001b[0m \u001b[1;32mwhile\u001b[0m \u001b[0ma\u001b[0m\u001b[1;33m<=\u001b[0m\u001b[0mn\u001b[0m\u001b[1;33m:\u001b[0m\u001b[1;33m\u001b[0m\u001b[1;33m\u001b[0m\u001b[0m\n\u001b[1;32m----> 6\u001b[1;33m     \u001b[1;32mif\u001b[0m \u001b[0ms\u001b[0m\u001b[1;33m[\u001b[0m\u001b[0ma\u001b[0m\u001b[1;33m]\u001b[0m\u001b[1;33m==\u001b[0m\u001b[1;34m\" \"\u001b[0m\u001b[1;33m:\u001b[0m\u001b[1;33m\u001b[0m\u001b[1;33m\u001b[0m\u001b[0m\n\u001b[0m\u001b[0;32m      7\u001b[0m         \u001b[0ma\u001b[0m\u001b[1;33m+=\u001b[0m\u001b[1;36m1\u001b[0m\u001b[1;33m\u001b[0m\u001b[1;33m\u001b[0m\u001b[0m\n\u001b[0;32m      8\u001b[0m         \u001b[1;32mcontinue\u001b[0m\u001b[1;33m\u001b[0m\u001b[1;33m\u001b[0m\u001b[0m\n",
      "\u001b[1;31mIndexError\u001b[0m: string index out of range"
     ]
    }
   ],
   "source": [
    "#while loop as ifelse\n",
    "s =\"hello world\"\n",
    "a  = 0\n",
    "n = len(s)\n",
    "while a<=n:\n",
    "    if s[a]==\" \":\n",
    "        a+=1\n",
    "        continue\n",
    "    print(s[a],end = \" \")\n",
    "    a+=1\n"
   ]
  },
  {
   "cell_type": "code",
   "execution_count": null,
   "metadata": {},
   "outputs": [],
   "source": []
  }
 ],
 "metadata": {
  "kernelspec": {
   "display_name": "Python 3",
   "language": "python",
   "name": "python3"
  },
  "language_info": {
   "codemirror_mode": {
    "name": "ipython",
    "version": 3
   },
   "file_extension": ".py",
   "mimetype": "text/x-python",
   "name": "python",
   "nbconvert_exporter": "python",
   "pygments_lexer": "ipython3",
   "version": "3.8.5"
  }
 },
 "nbformat": 4,
 "nbformat_minor": 4
}
