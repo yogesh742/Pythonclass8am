{
 "cells": [
  {
   "cell_type": "code",
   "execution_count": 4,
   "metadata": {},
   "outputs": [
    {
     "name": "stdout",
     "output_type": "stream",
     "text": [
      "enter n= 2\n"
     ]
    },
    {
     "name": "stderr",
     "output_type": "stream",
     "text": [
      "C:\\Users\\hemant\\anaconda3\\lib\\site-packages\\bs4\\__init__.py:417: MarkupResemblesLocatorWarning: \"http://www.nepalstock.com/main/floorsheet/index/1/\" looks like a URL. Beautiful Soup is not an HTTP client. You should probably use an HTTP client like requests to get the document behind the URL, and feed that document to Beautiful Soup.\n",
      "  warnings.warn(\n",
      "C:\\Users\\hemant\\anaconda3\\lib\\site-packages\\bs4\\__init__.py:417: MarkupResemblesLocatorWarning: \"http://www.nepalstock.com/main/floorsheet/index/2/\" looks like a URL. Beautiful Soup is not an HTTP client. You should probably use an HTTP client like requests to get the document behind the URL, and feed that document to Beautiful Soup.\n",
      "  warnings.warn(\n"
     ]
    },
    {
     "name": "stdout",
     "output_type": "stream",
     "text": [
      "[['S.N.', 'Contract No', 'Stock Symbol', 'Buyer Broker', 'Seller Broker', 'Quantity', 'Rate', 'Amount'], ['1', '2021040804008019', 'RHPL', '59', '33', '108', '515', '55620.00'], ['2', '2021040803005369', 'RLFL', '57', '42', '50', '305', '15250.00'], ['3', '2021040803005405', 'RLFL', '57', '42', '100', '305', '30500.00'], ['4', '2021040804008660', 'UPPER', '57', '58', '100', '895', '89500.00'], ['5', '2021040801001733', 'NABIL', '58', '17', '232', '1322', '306704.00'], ['6', '2021040803007368', 'RLFL', '58', '8', '190', '306', '58140.00'], ['7', '2021040801002182', 'CCBL', '58', '13', '40', '255', '10200.00'], ['8', '2021040803006482', 'RLFL', '57', '33', '100', '305', '30500.00'], ['9', '2021040803007329', 'NLIC', '51', '7', '16', '2142', '34272.00'], ['10', '2021040803004111', 'NLIC', '57', '57', '200', '2110', '422000.00'], ['11', '2021040803005395', 'PFL', '56', '6', '100', '303', '30300.00'], ['12', '2021040804008702', 'GLH', '58', '21', '10', '377', '3770.00'], ['13', '2021040803005350', 'RLFL', '57', '42', '40', '305', '12200.00'], ['14', '2021040803005414', 'GBLBS', '58', '10', '82', '1170', '95940.00'], ['15', '2021040803005430', 'ILBS', '58', '57', '11', '1645', '18095.00'], ['16', '2021040803006435', 'MSLB', '56', '1', '100', '2271', '227100.00'], ['17', '2021040804008695', 'CGH', '54', '36', '10', '2635', '26350.00'], ['18', '2021040804005061', 'CHL', '58', '16', '13', '227', '2951.00'], ['19', '2021040803007345', 'MNBBL', '57', '14', '448', '414', '185472.00'], ['20', '2021040803004114', 'NRIC', '52', '33', '10', '1466', '14660.00'], ['S.N.', 'Contract No', 'Stock Symbol', 'Buyer Broker', 'Seller Broker', 'Quantity', 'Rate', 'Amount'], ['21', '2021040804006270', 'UMRH', '52', '42', '10', '303', '3030.00'], ['22', '2021040804005034', 'CGH', '59', '22', '10', '2729', '27290.00'], ['23', '2021040803007389', 'NIFRA', '59', '36', '20', '593', '11860.00'], ['24', '2021040801002622', 'ADBL', '58', '14', '50', '435', '21750.00'], ['25', '2021040804007318', 'UPPER', '58', '45', '100', '902', '90200.00'], ['26', '2021040803005406', 'GBLBS', '58', '46', '150', '1168', '175200.00'], ['27', '2021040803005432', 'ILBS', '58', '52', '423', '1649', '697527.00'], ['28', '2021040804006314', 'HDHPC', '54', '58', '500', '154', '77000.00'], ['29', '2021040803004202', 'BFC', '57', '4', '200', '172', '34400.00'], ['30', '2021040804008700', 'UIC', '54', '57', '70', '708', '49560.00'], ['31', '2021040804008726', 'GLH', '58', '38', '10', '377', '3770.00'], ['32', '2021040804006298', 'RHPL', '59', '16', '30', '512', '15360.00'], ['33', '2021040804008020', 'RHPL', '59', '32', '10', '515', '5150.00'], ['34', '2021040804008017', 'RHPL', '59', '38', '102', '514', '52428.00'], ['35', '2021040804006304', 'UNHPL', '57', '17', '500', '135', '67500.00'], ['36', '2021040803005374', 'BFC', '57', '55', '100', '171', '17100.00'], ['37', '2021040801002607', 'CZBIL', '59', '50', '141', '312', '43992.00'], ['38', '2021040801001732', 'SBL', '59', '40', '12', '430', '5160.00'], ['39', '2021040804005036', 'CGH', '59', '49', '10', '2730', '27300.00'], ['40', '2021040803005407', 'GBLBS', '58', '13', '40', '1168', '46720.00']]\n"
     ]
    }
   ],
   "source": [
    "from bs4 import BeautifulSoup\n",
    "import requests\n",
    "output = []\n",
    "n = int(input(\"enter n= \"))\n",
    "for i in range(1,n+1):\n",
    "    url = BeautifulSoup(f'http://www.nepalstock.com/main/floorsheet/index/{i}/', 'html.parser')\n",
    "    response = requests.get(url)\n",
    "    markup = response.text\n",
    "    xml_code = BeautifulSoup(markup,\"lxml\")\n",
    "    table_code = xml_code.table\n",
    "    tags = table_code.find_all('tr')[1:-3]\n",
    "\n",
    "    for i in tags:\n",
    "        x = (i.text).split('\\n')[1:-1]\n",
    "        output.append(x)\n",
    "        \n",
    "print(output)"
   ]
  },
  {
   "cell_type": "code",
   "execution_count": null,
   "metadata": {},
   "outputs": [],
   "source": []
  }
 ],
 "metadata": {
  "kernelspec": {
   "display_name": "Python 3",
   "language": "python",
   "name": "python3"
  },
  "language_info": {
   "codemirror_mode": {
    "name": "ipython",
    "version": 3
   },
   "file_extension": ".py",
   "mimetype": "text/x-python",
   "name": "python",
   "nbconvert_exporter": "python",
   "pygments_lexer": "ipython3",
   "version": "3.8.5"
  }
 },
 "nbformat": 4,
 "nbformat_minor": 4
}
