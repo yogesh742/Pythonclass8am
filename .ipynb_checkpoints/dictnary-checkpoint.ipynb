{
 "cells": [
  {
   "cell_type": "code",
   "execution_count": 1,
   "metadata": {},
   "outputs": [],
   "source": [
    "# dict {}\n",
    "# indexed\n",
    "# ordered\n",
    "# duplicate value\n",
    "# mutable\n",
    "#a= {<key>:<value>,<key>:<value>}   key as index\n",
    "#key must be unique value, if same key last value is assigned\n",
    "#tuple can be key becuse its imutable, mutable data type can not be key"
   ]
  },
  {
   "cell_type": "code",
   "execution_count": 2,
   "metadata": {},
   "outputs": [
    {
     "data": {
      "text/plain": [
       "dict"
      ]
     },
     "execution_count": 2,
     "metadata": {},
     "output_type": "execute_result"
    }
   ],
   "source": [
    "a={}\n",
    "type(a)"
   ]
  },
  {
   "cell_type": "code",
   "execution_count": 6,
   "metadata": {},
   "outputs": [
    {
     "name": "stdout",
     "output_type": "stream",
     "text": [
      "{'a': 'apple', 'b': 'ball'}\n",
      "apple\n",
      "ball\n",
      "{'a': 'apple', 'b': 'ball', 'A': 'apple'}\n"
     ]
    }
   ],
   "source": [
    "a={\"a\":\"apple\",\"b\":\"ball\"}\n",
    "b={1:\"apple\",2:\"ball\"}\n",
    "c={\"a\":\"apple\",\"b\":\"ball\",\"A\":\"apple\"}\n",
    "print(a)\n",
    "print(a[\"a\"])\n",
    "print(b[2])\n",
    "print(c)"
   ]
  },
  {
   "cell_type": "code",
   "execution_count": 7,
   "metadata": {},
   "outputs": [
    {
     "name": "stdout",
     "output_type": "stream",
     "text": [
      "{'ram': 90890, 'shyam': 98000, 'hari': 88888}\n"
     ]
    }
   ],
   "source": [
    "a={}\n",
    "a[\"ram\"]=90890\n",
    "a[\"shyam\"]=98000\n",
    "a[\"hari\"]=88888\n",
    "print(a)"
   ]
  },
  {
   "cell_type": "code",
   "execution_count": 9,
   "metadata": {},
   "outputs": [
    {
     "name": "stdout",
     "output_type": "stream",
     "text": [
      "enter n 2\n",
      "enter name yy\n",
      "enter phn num 9808\n",
      "enter name uu\n",
      "enter phn num 9090\n",
      "{'yy': 9808, 'uu': 9090}\n"
     ]
    }
   ],
   "source": [
    "a={}\n",
    "n=int(input(\"enter n \"))\n",
    "for i in range(n):\n",
    "    name=input(\"enter name \")\n",
    "    phn=int(input(\"enter phn num \"))\n",
    "    a[name]=phn\n",
    "print(a)"
   ]
  },
  {
   "cell_type": "code",
   "execution_count": 11,
   "metadata": {},
   "outputs": [
    {
     "name": "stdout",
     "output_type": "stream",
     "text": [
      "yy\n",
      "uu\n"
     ]
    }
   ],
   "source": [
    "for i in a:  #key\n",
    "    print(i)"
   ]
  },
  {
   "cell_type": "code",
   "execution_count": 13,
   "metadata": {},
   "outputs": [
    {
     "name": "stdout",
     "output_type": "stream",
     "text": [
      "9808\n",
      "9090\n"
     ]
    }
   ],
   "source": [
    "for i in a.values():  #value\n",
    "    print(i)"
   ]
  },
  {
   "cell_type": "code",
   "execution_count": 15,
   "metadata": {},
   "outputs": [
    {
     "name": "stdout",
     "output_type": "stream",
     "text": [
      "('yy', 9808)\n",
      "('uu', 9090)\n"
     ]
    }
   ],
   "source": [
    "for i in a.items():  #both key and value\n",
    "    print(i)"
   ]
  },
  {
   "cell_type": "code",
   "execution_count": 16,
   "metadata": {},
   "outputs": [
    {
     "name": "stdout",
     "output_type": "stream",
     "text": [
      "[('yy', 9808), ('uu', 9090)]\n"
     ]
    }
   ],
   "source": [
    "z=[]\n",
    "for i in a.items():\n",
    "    z.append(i)\n",
    "print(z)"
   ]
  },
  {
   "cell_type": "code",
   "execution_count": 17,
   "metadata": {},
   "outputs": [
    {
     "data": {
      "text/plain": [
       "{'yy': 9808, 'uu': 9090}"
      ]
     },
     "execution_count": 17,
     "metadata": {},
     "output_type": "execute_result"
    }
   ],
   "source": [
    "d={}\n",
    "for i in z:\n",
    "    key=i[0]\n",
    "    value=i[1]\n",
    "    d[key]=value\n",
    "d"
   ]
  },
  {
   "cell_type": "code",
   "execution_count": 19,
   "metadata": {},
   "outputs": [
    {
     "data": {
      "text/plain": [
       "{('a', 'A'): 'apple'}"
      ]
     },
     "execution_count": 19,
     "metadata": {},
     "output_type": "execute_result"
    }
   ],
   "source": [
    "d={('a','A'):\"apple\"}\n",
    "d"
   ]
  },
  {
   "cell_type": "code",
   "execution_count": 20,
   "metadata": {},
   "outputs": [
    {
     "data": {
      "text/plain": [
       "{'ram': [984999, 980399], 'shyam': [985100, 981899]}"
      ]
     },
     "execution_count": 20,
     "metadata": {},
     "output_type": "execute_result"
    }
   ],
   "source": [
    "#list inside dict....,  values indexing is automated\n",
    "e={\"ram\":[984999,980399],\"shyam\":[985100,981899]}\n",
    "e"
   ]
  },
  {
   "cell_type": "code",
   "execution_count": 21,
   "metadata": {},
   "outputs": [],
   "source": [
    "# a={}\n",
    "# n=int(input(\"enter num \"))\n",
    "# for i in range(n):\n",
    "#     name=input(\"enter name \")\n",
    "#     phn=input(\"enter phn num\")\n",
    "    "
   ]
  },
  {
   "cell_type": "code",
   "execution_count": 22,
   "metadata": {},
   "outputs": [
    {
     "name": "stdout",
     "output_type": "stream",
     "text": [
      "enter name ram\n",
      "enter 0 for ntc 1 for ncell1\n",
      "980399\n"
     ]
    }
   ],
   "source": [
    "name=input(\"enter name \")\n",
    "phn=int(input(\"enter 0 for ntc 1 for ncell \"))\n",
    "print(e[name][phn])"
   ]
  },
  {
   "cell_type": "code",
   "execution_count": 23,
   "metadata": {},
   "outputs": [
    {
     "data": {
      "text/plain": [
       "{'ram': [988888, 980399], 'shyam': [985100, 981899]}"
      ]
     },
     "execution_count": 23,
     "metadata": {},
     "output_type": "execute_result"
    }
   ],
   "source": [
    "e[\"ram\"][0]=988888      #update\n",
    "e"
   ]
  },
  {
   "cell_type": "code",
   "execution_count": 24,
   "metadata": {},
   "outputs": [
    {
     "data": {
      "text/plain": [
       "{'ram': [980399], 'shyam': [985100, 981899]}"
      ]
     },
     "execution_count": 24,
     "metadata": {},
     "output_type": "execute_result"
    }
   ],
   "source": [
    "del e[\"ram\"][0]        #delete\n",
    "e"
   ]
  },
  {
   "cell_type": "code",
   "execution_count": 26,
   "metadata": {},
   "outputs": [
    {
     "data": {
      "text/plain": [
       "{'ram': [980399, 98888, 98888], 'shyam': [985100, 981899]}"
      ]
     },
     "execution_count": 26,
     "metadata": {},
     "output_type": "execute_result"
    }
   ],
   "source": [
    "e[\"ram\"].append(98888)\n",
    "e"
   ]
  },
  {
   "cell_type": "code",
   "execution_count": 27,
   "metadata": {},
   "outputs": [
    {
     "data": {
      "text/plain": [
       "{'ram': [98888, 980399], 'shyam': [985100, 981899]}"
      ]
     },
     "execution_count": 27,
     "metadata": {},
     "output_type": "execute_result"
    }
   ],
   "source": [
    "d={'ram': [980399], 'shyam': [985100, 981899]}\n",
    "d[\"ram\"].insert(0,98888)\n",
    "d"
   ]
  },
  {
   "cell_type": "code",
   "execution_count": 21,
   "metadata": {},
   "outputs": [
    {
     "name": "stdout",
     "output_type": "stream",
     "text": [
      "enter value to search 980399\n",
      "no\n",
      "no\n"
     ]
    }
   ],
   "source": [
    "data={'ram': [988888, 980399], 'shyam': [985100, 981899]}\n",
    "search=input(\"enter value to search \")\n",
    "for i in data.items():\n",
    "    if search in i:\n",
    "        print(\"yes\")\n",
    "    else:\n",
    "        print(\"no\")\n"
   ]
  },
  {
   "cell_type": "code",
   "execution_count": null,
   "metadata": {},
   "outputs": [],
   "source": []
  }
 ],
 "metadata": {
  "kernelspec": {
   "display_name": "Python 3",
   "language": "python",
   "name": "python3"
  },
  "language_info": {
   "codemirror_mode": {
    "name": "ipython",
    "version": 3
   },
   "file_extension": ".py",
   "mimetype": "text/x-python",
   "name": "python",
   "nbconvert_exporter": "python",
   "pygments_lexer": "ipython3",
   "version": "3.8.5"
  }
 },
 "nbformat": 4,
 "nbformat_minor": 4
}
