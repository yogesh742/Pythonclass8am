{
 "cells": [
  {
   "cell_type": "code",
   "execution_count": 8,
   "metadata": {},
   "outputs": [
    {
     "name": "stdout",
     "output_type": "stream",
     "text": [
      "enter number: 7\n",
      "is prime\n"
     ]
    }
   ],
   "source": [
    "#primeNum\n",
    "num = int(input(\"enter number: \"))\n",
    "if num > 1:\n",
    "    for i in range(2,num):\n",
    "        if (num%i) == 0:\n",
    "            print(\"is composite\")\n",
    "            break\n",
    "    else:\n",
    "            print(\"is prime\")\n",
    "elif num == 0 or 1:\n",
    "    print(\"neither prime nor composite\")\n",
    "else:\n",
    "    print(\"is composite\")\n",
    "    "
   ]
  },
  {
   "cell_type": "code",
   "execution_count": null,
   "metadata": {},
   "outputs": [],
   "source": []
  },
  {
   "cell_type": "code",
   "execution_count": null,
   "metadata": {},
   "outputs": [],
   "source": []
  }
 ],
 "metadata": {
  "kernelspec": {
   "display_name": "Python 3",
   "language": "python",
   "name": "python3"
  },
  "language_info": {
   "codemirror_mode": {
    "name": "ipython",
    "version": 3
   },
   "file_extension": ".py",
   "mimetype": "text/x-python",
   "name": "python",
   "nbconvert_exporter": "python",
   "pygments_lexer": "ipython3",
   "version": "3.8.5"
  }
 },
 "nbformat": 4,
 "nbformat_minor": 4
}
