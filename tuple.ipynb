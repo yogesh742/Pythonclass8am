{
 "cells": [
  {
   "cell_type": "code",
   "execution_count": 1,
   "metadata": {},
   "outputs": [
    {
     "name": "stdout",
     "output_type": "stream",
     "text": [
      "enter n 2\n",
      "enter name ee\n",
      "enter name rr\n",
      "('ee', 'rr')\n"
     ]
    }
   ],
   "source": [
    "y = tuple()\n",
    "n = int(input(\"enter n \"))\n",
    "for i in range(n):\n",
    "    x = input(\"enter name \")\n",
    "    y = y+(x,)\n",
    "print(y)"
   ]
  },
  {
   "cell_type": "code",
   "execution_count": 2,
   "metadata": {},
   "outputs": [],
   "source": [
    "#min() max() sorted() sum()"
   ]
  },
  {
   "cell_type": "code",
   "execution_count": 3,
   "metadata": {},
   "outputs": [
    {
     "name": "stdout",
     "output_type": "stream",
     "text": [
      "enter n 2\n",
      "enter name 3\n",
      "enter name 4\n",
      "tuple is  (3, 4)\n",
      "max value  4\n",
      "min value 3\n",
      "sum is  7\n"
     ]
    }
   ],
   "source": [
    "y = tuple()\n",
    "n = int(input(\"enter n \"))\n",
    "for i in range(n):\n",
    "    x = int(input(\"enter name \"))\n",
    "    y = y+(x,)\n",
    "print(\"tuple is \",y)\n",
    "print(\"max value \",max(y))\n",
    "print(\"min value\",min(y))\n",
    "print(\"sum is \", sum(y))\n"
   ]
  },
  {
   "cell_type": "code",
   "execution_count": 4,
   "metadata": {},
   "outputs": [
    {
     "data": {
      "text/plain": [
       "[2, 53, 234, 234, 444]"
      ]
     },
     "execution_count": 4,
     "metadata": {},
     "output_type": "execute_result"
    }
   ],
   "source": [
    "a=(234,444,53,2,234)\n",
    "sorted(a)"
   ]
  },
  {
   "cell_type": "code",
   "execution_count": 6,
   "metadata": {},
   "outputs": [
    {
     "data": {
      "text/plain": [
       "(234, 444, 234)"
      ]
     },
     "execution_count": 6,
     "metadata": {},
     "output_type": "execute_result"
    }
   ],
   "source": [
    "a=(234,444,53,2,234)\n",
    "b=list(a)\n",
    "del b[2:4]\n",
    "tuple(b)"
   ]
  },
  {
   "cell_type": "code",
   "execution_count": 7,
   "metadata": {},
   "outputs": [],
   "source": [
    "a=((1,2,3),(4,5,6),(7,8,9))#tupleninside tuple\n",
    "b=[(1,2,3),(4,5,6),(7,8,9)]#tuple inside list\n",
    "c=([1,2,3],[4,5,6],[7,8,9])#list ninside tuple"
   ]
  },
  {
   "cell_type": "code",
   "execution_count": 8,
   "metadata": {},
   "outputs": [
    {
     "name": "stdout",
     "output_type": "stream",
     "text": [
      "enter num 2\n",
      "enter value 1\n",
      "enter value 2\n",
      "enter value 3\n",
      "enter value 4\n",
      "enter value 5\n",
      "enter value 6\n",
      "((1, 2, 3), (4, 5, 6))\n"
     ]
    }
   ],
   "source": [
    "a=tuple()\n",
    "n = int(input(\"enter num \"))\n",
    "for i in range(n):\n",
    "    c=int(input(\"enter value \"))\n",
    "    d=int(input(\"enter value \"))\n",
    "    e=int(input(\"enter value \"))\n",
    "    f=(c,d,e)\n",
    "    a=a+(f,)\n",
    "print(a)"
   ]
  },
  {
   "cell_type": "code",
   "execution_count": 9,
   "metadata": {},
   "outputs": [
    {
     "data": {
      "text/plain": [
       "[(1, 2, 3), (4, 5, 6), (7, 8, 9), (10, 11, 12)]"
      ]
     },
     "execution_count": 9,
     "metadata": {},
     "output_type": "execute_result"
    }
   ],
   "source": [
    "a=((1,2,3),(4,5,6),(7,8,9))\n",
    "b=list(a)\n",
    "b.append((10,11,12))\n",
    "b"
   ]
  },
  {
   "cell_type": "code",
   "execution_count": 14,
   "metadata": {},
   "outputs": [
    {
     "name": "stdout",
     "output_type": "stream",
     "text": [
      "[[1, 2, 3], [4, 5, 6], [7, 8, 9]]\n"
     ]
    }
   ],
   "source": [
    "b=[]\n",
    "a=((1, 2, 3), (4, 5, 6), (7, 8, 9))\n",
    "for i in a:\n",
    "    b.append(list(i))\n",
    "print(b)\n",
    "    "
   ]
  },
  {
   "cell_type": "code",
   "execution_count": 15,
   "metadata": {},
   "outputs": [
    {
     "name": "stdout",
     "output_type": "stream",
     "text": [
      "(1, 2, 3, 4, 5, 6, 7, 8, 9)\n"
     ]
    }
   ],
   "source": [
    "b=()\n",
    "a=[[1, 2, 3], [4, 5, 6], [7, 8, 9]]\n",
    "for i in a:\n",
    "    b =b+tuple((i),)\n",
    "print(b)\n",
    "    "
   ]
  },
  {
   "cell_type": "code",
   "execution_count": null,
   "metadata": {},
   "outputs": [],
   "source": []
  }
 ],
 "metadata": {
  "kernelspec": {
   "display_name": "Python 3",
   "language": "python",
   "name": "python3"
  },
  "language_info": {
   "codemirror_mode": {
    "name": "ipython",
    "version": 3
   },
   "file_extension": ".py",
   "mimetype": "text/x-python",
   "name": "python",
   "nbconvert_exporter": "python",
   "pygments_lexer": "ipython3",
   "version": "3.8.5"
  }
 },
 "nbformat": 4,
 "nbformat_minor": 4
}
