{
 "cells": [
  {
   "cell_type": "code",
   "execution_count": 2,
   "metadata": {},
   "outputs": [
    {
     "name": "stdout",
     "output_type": "stream",
     "text": [
      "this is method c\n",
      "this is method b\n",
      "this is method a\n"
     ]
    }
   ],
   "source": [
    "class a:\n",
    "    def a(self):\n",
    "        print(\"this is method a\")\n",
    "class b(a):\n",
    "    def b(self):\n",
    "        print(\"this is method b\")\n",
    "class c(b):\n",
    "    def c(self):\n",
    "        print(\"this is method c\")\n",
    "obj = c()\n",
    "obj.c()\n",
    "obj.b()\n",
    "obj.a()"
   ]
  },
  {
   "cell_type": "code",
   "execution_count": 5,
   "metadata": {},
   "outputs": [
    {
     "name": "stdout",
     "output_type": "stream",
     "text": [
      "enter name ram\n",
      "enter age 4\n",
      "enter address ktm\n",
      "hello ram this is hr section \n",
      "hello ram your age is 4 and address is ktm\n"
     ]
    }
   ],
   "source": [
    "class data:\n",
    "    def __init__(self):\n",
    "        self.name = input(\"enter name \")\n",
    "        self.age = int(input(\"enter age \"))\n",
    "        self.add = input(\"enter address \")\n",
    "class Hr(data):\n",
    "    def hr(self):\n",
    "        print(f\"hello {self.name} this is hr section \")\n",
    "class office(Hr):\n",
    "    def Office(self):\n",
    "        print(f\"hello {self.name} your age is {self.age} and address is {self.add}\")\n",
    "obj=office()\n",
    "obj.hr()\n",
    "obj.Office()\n",
    "    "
   ]
  },
  {
   "cell_type": "code",
   "execution_count": 1,
   "metadata": {},
   "outputs": [
    {
     "name": "stdout",
     "output_type": "stream",
     "text": [
      "enter salary 50000\n",
      "enter name ram\n",
      "enter age 34\n",
      "enter address ktm\n",
      "hello ram this is hr section \n",
      "hello ram your age is 34 and address is ktm salary is 50000. \n"
     ]
    }
   ],
   "source": [
    "class data:\n",
    "    def __init__(self):\n",
    "        self.name = input(\"enter name \")\n",
    "        self.age = int(input(\"enter age \"))\n",
    "        self.add = input(\"enter address \")\n",
    "class Hr(data):\n",
    "    def __init__(self):\n",
    "        self.salary=int(input(\"enter salary \"))\n",
    "        data.__init__(self)\n",
    "    def hr(self):\n",
    "        print(f\"hello {self.name} this is hr section \")\n",
    "class office(Hr):\n",
    "    def Office(self):\n",
    "        print(f\"hello {self.name} your age is {self.age} and address is {self.add} salary is {self.salary}. \")\n",
    "obj=office()\n",
    "obj.hr()\n",
    "obj.Office()\n",
    "    "
   ]
  },
  {
   "cell_type": "code",
   "execution_count": 5,
   "metadata": {},
   "outputs": [
    {
     "name": "stdout",
     "output_type": "stream",
     "text": [
      "enter name ram\n",
      "enter age 54\n",
      "enter address ktm\n",
      "enter salary 85200\n",
      "hello ram your age is 54 and address is ktm\n"
     ]
    }
   ],
   "source": [
    "class data:\n",
    "    def __init__(self):\n",
    "        self.name = input(\"enter name \")\n",
    "        self.age = int(input(\"enter age \"))\n",
    "        self.add = input(\"enter address \")\n",
    "class Hr:\n",
    "    def __init__(self):\n",
    "        self.salary = int(input(\"enter salary \"))\n",
    "    def hr(self):\n",
    "        print(f\"hello {self.name} this is hr section \")\n",
    "class office(data,Hr):\n",
    "    def __init__(self):\n",
    "        data.__init__(self)\n",
    "        Hr.__init__(self)\n",
    "    def Office(self):\n",
    "        print(f\"hello {self.name} your age is {self.age} and address is {self.add}\")\n",
    "obj=office()\n",
    "obj.Office()\n",
    "    "
   ]
  },
  {
   "cell_type": "code",
   "execution_count": null,
   "metadata": {},
   "outputs": [],
   "source": [
    "class person:\n",
    "    def __init__(self,personName,personAge):\n",
    "        self.name = personName\n",
    "        self.age = personAge\n",
    "class student:\n",
    "    def __init__(self,studentId):\n",
    "        self.student = studentId\n",
    "class resident(person,student):\n",
    "    def __init__(self,name,age,id):\n",
    "        person.__init__(self,name,age)\n",
    "        student.__init__(self,id)\n",
    "    def info(self):\n",
    "        print(f\"Hello {self.name} your age is {self.age} and id is {self.student}\")\n",
    "resident1 = resident('ram',55,4)"
   ]
  }
 ],
 "metadata": {
  "kernelspec": {
   "display_name": "Python 3",
   "language": "python",
   "name": "python3"
  },
  "language_info": {
   "codemirror_mode": {
    "name": "ipython",
    "version": 3
   },
   "file_extension": ".py",
   "mimetype": "text/x-python",
   "name": "python",
   "nbconvert_exporter": "python",
   "pygments_lexer": "ipython3",
   "version": "3.8.5"
  }
 },
 "nbformat": 4,
 "nbformat_minor": 4
}
