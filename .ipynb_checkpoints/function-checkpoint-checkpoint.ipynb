{
 "cells": [
  {
   "cell_type": "code",
   "execution_count": 1,
   "metadata": {},
   "outputs": [
    {
     "data": {
      "text/plain": [
       "'hello world'"
      ]
     },
     "execution_count": 1,
     "metadata": {},
     "output_type": "execute_result"
    }
   ],
   "source": [
    "#function without argument and return data type\n",
    "def hello():\n",
    "    return\"hello world\"\n",
    "print(hello())"
   ]
  },
  {
   "cell_type": "code",
   "execution_count": 2,
   "metadata": {},
   "outputs": [
    {
     "name": "stdout",
     "output_type": "stream",
     "text": [
      "600\n"
     ]
    }
   ],
   "source": [
    "def cal():\n",
    "    l=20\n",
    "    b=30\n",
    "    a=l*b\n",
    "    return a\n",
    "print(cal())"
   ]
  },
  {
   "cell_type": "code",
   "execution_count": 4,
   "metadata": {},
   "outputs": [
    {
     "name": "stdout",
     "output_type": "stream",
     "text": [
      "enter l 23\n",
      "enter b 10\n",
      "the area is  230\n",
      "enter h 10\n",
      "the volume is  2300\n"
     ]
    }
   ],
   "source": [
    "def cal():\n",
    "    l=int(input(\"enter l \"))\n",
    "    b=int(input(\"enter b \"))\n",
    "    a=l*b\n",
    "    return a\n",
    "ar = cal()\n",
    "print(\"the area is \",ar)\n",
    "h = int(input(\"enter h \"))\n",
    "v = ar*h   #cal()*h\n",
    "print(\"the volume is \",v)\n"
   ]
  },
  {
   "cell_type": "code",
   "execution_count": 7,
   "metadata": {},
   "outputs": [
    {
     "name": "stdout",
     "output_type": "stream",
     "text": [
      "enter l 2\n",
      "enter b 3\n",
      "enter h 4\n",
      "the area is  6\n",
      "the volume is  24\n"
     ]
    }
   ],
   "source": [
    "def cal():\n",
    "    l=int(input(\"enter l \"))\n",
    "    b=int(input(\"enter b \"))\n",
    "    h=int(input(\"enter h \"))\n",
    "    a=l*b\n",
    "    v=a*h\n",
    "    return a,v\n",
    "\n",
    "area,volume=cal()\n",
    "print(\"the area is \",area)\n",
    "print(\"the volume is \",volume)"
   ]
  },
  {
   "cell_type": "code",
   "execution_count": 9,
   "metadata": {},
   "outputs": [
    {
     "name": "stdout",
     "output_type": "stream",
     "text": [
      "enter l 2\n",
      "enter b 3\n",
      "enter h 4\n",
      "the area is  6\n",
      "the volume is  24\n"
     ]
    }
   ],
   "source": [
    "def cal():\n",
    "    l=int(input(\"enter l \"))\n",
    "    b=int(input(\"enter b \"))\n",
    "    h=int(input(\"enter h \"))\n",
    "    a=l*b\n",
    "    v=a*h\n",
    "    d={\"area\":a,\"volume\":v}\n",
    "    return d\n",
    "value = cal()\n",
    "area=value[\"area\"]\n",
    "volume=value[\"volume\"]\n",
    "print(\"the area is \",area)\n",
    "print(\"the volume is \",volume)"
   ]
  },
  {
   "cell_type": "code",
   "execution_count": 10,
   "metadata": {},
   "outputs": [
    {
     "name": "stdout",
     "output_type": "stream",
     "text": [
      "hello world\n"
     ]
    }
   ],
   "source": [
    "#function with argument and return type\n",
    "def hello(x,y):\n",
    "    z=x+y\n",
    "    return z\n",
    "print(hello(\"hello \",\"world\"))"
   ]
  },
  {
   "cell_type": "code",
   "execution_count": 13,
   "metadata": {},
   "outputs": [
    {
     "name": "stdout",
     "output_type": "stream",
     "text": [
      "enter l 2\n",
      "enter b 3\n",
      "enter h 4\n",
      "the area is  6\n",
      "the volume is  24\n"
     ]
    }
   ],
   "source": [
    "def cal(l,b,h):\n",
    "    a=l*b\n",
    "    v=l*b*h\n",
    "    return a,v\n",
    "l=int(input(\"enter l \"))\n",
    "b=int(input(\"enter b \"))\n",
    "h=int(input(\"enter h \"))\n",
    "\n",
    "# area,volume= cal(lb,h)\n",
    "# print(\"the area is \",area)\n",
    "# print(\"the volume is \",volume)\n",
    "\n",
    "z=cal(l,b,h)\n",
    "print(\"the area is \",z[0])\n",
    "print(\"the volume is \",z[1])"
   ]
  },
  {
   "cell_type": "code",
   "execution_count": 14,
   "metadata": {},
   "outputs": [
    {
     "name": "stdout",
     "output_type": "stream",
     "text": [
      "enter l 2\n",
      "enter b 3\n",
      "enter h 4\n",
      "the area is  6\n",
      "the volumeis  24\n"
     ]
    }
   ],
   "source": [
    "#multiple function with argument and return type\n",
    "def area(l,b):\n",
    "    a=l*b\n",
    "    return a\n",
    "def volume(l,b,h):\n",
    "    v=area(l,b)*h\n",
    "    return v\n",
    "\n",
    "l=int(input(\"enter l \"))\n",
    "b=int(input(\"enter b \"))\n",
    "h=int(input(\"enter h \"))\n",
    "\n",
    "ar =area(l,b)\n",
    "vl=volume(l,b,h)\n",
    "print(\"the area is \",ar)\n",
    "print(\"the volumeis \",vl)"
   ]
  },
  {
   "cell_type": "code",
   "execution_count": 1,
   "metadata": {},
   "outputs": [
    {
     "name": "stdout",
     "output_type": "stream",
     "text": [
      "enter a 2\n",
      "enter b 3\n",
      "enter + - */ +\n",
      "5\n"
     ]
    }
   ],
   "source": [
    "def add(x,y):\n",
    "    return x+y\n",
    "def sub(c,d):\n",
    "    return c-d\n",
    "def mul(a,b):\n",
    "    return a*b\n",
    "def div(a,b):\n",
    "    return a/b\n",
    "def cal():\n",
    "    a=int(input(\"enter a \"))\n",
    "    b=int(input(\"enter b \"))\n",
    "    o=input(\"enter + - */ \")\n",
    "    if o == \"+\":\n",
    "        print(add(a,b))\n",
    "    elif o == \"-\":\n",
    "        print(sub(a,b))\n",
    "    elif o == \"*\":\n",
    "        print(mul(a,b))\n",
    "    elif o == \"/\":\n",
    "        print(div(a,b))\n",
    "    else:\n",
    "        print(\"invalid operator\")\n",
    "cal()\n",
    "    "
   ]
  },
  {
   "cell_type": "code",
   "execution_count": 17,
   "metadata": {},
   "outputs": [
    {
     "name": "stdout",
     "output_type": "stream",
     "text": [
      "['ram', 77, 'kathmandu']\n"
     ]
    }
   ],
   "source": [
    "def list(l):\n",
    "    print(l)\n",
    "l =[\"ram\",77,\"kathmandu\"]\n",
    "list(l)"
   ]
  },
  {
   "cell_type": "code",
   "execution_count": 18,
   "metadata": {},
   "outputs": [],
   "source": [
    "def list(l):\n",
    "    name=l[\"name\"]\n",
    "    age=l[\"age\"]\n",
    "    add=l[\"add\"]\n",
    "l={\"name\":\"ram\",\"age\":77,\"add\":\"kathmandu\"}\n",
    "list(l)"
   ]
  },
  {
   "cell_type": "code",
   "execution_count": 2,
   "metadata": {},
   "outputs": [
    {
     "name": "stdout",
     "output_type": "stream",
     "text": [
      "enter n 2\n",
      "ente name ee\n",
      "enter age  4\n",
      "enter address rr\n",
      "ente name tt\n",
      "enter age  5\n",
      "enter address yy\n",
      "[[1, 'ee', '4', 'rr'], [2, 'tt', '5', 'yy']]\n"
     ]
    }
   ],
   "source": [
    "data=[]\n",
    "def datas(info):\n",
    "    global data\n",
    "    data = data+info\n",
    "    \n",
    "n=int(input(\"enter n \"))\n",
    "for i in range(1,n+1):\n",
    "    name=input(\"ente name \")\n",
    "    age = input(\"enter age  \")\n",
    "    add = input(\"enter address \")\n",
    "    info = [[i,name,age,add]]\n",
    "    datas(info)\n",
    "    \n",
    "print(data)"
   ]
  },
  {
   "cell_type": "code",
   "execution_count": null,
   "metadata": {},
   "outputs": [],
   "source": [
    "data =[[1, 'ee', '4', 'rr'], [2, 'tt', '5', 'yy']]\n",
    "def edit():\n",
    "#     i = int(input(\"enter index \"))\n",
    "#     data[i]\n",
    "#     return data\n",
    "    pass\n",
    "def delelte():\n",
    "    i = int(input(\"enter index \"))\n",
    "    del.data[i]\n",
    "    return data\n",
    "\n",
    "x = int(input(\"enter 1 for edit and 2 for delete \"))\n",
    "if x == 1:\n",
    "    print(edit())\n",
    "elif x == 2:\n",
    "    delete()\n",
    "    "
   ]
  }
 ],
 "metadata": {
  "kernelspec": {
   "display_name": "Python 3",
   "language": "python",
   "name": "python3"
  },
  "language_info": {
   "codemirror_mode": {
    "name": "ipython",
    "version": 3
   },
   "file_extension": ".py",
   "mimetype": "text/x-python",
   "name": "python",
   "nbconvert_exporter": "python",
   "pygments_lexer": "ipython3",
   "version": "3.8.5"
  }
 },
 "nbformat": 4,
 "nbformat_minor": 4
}
