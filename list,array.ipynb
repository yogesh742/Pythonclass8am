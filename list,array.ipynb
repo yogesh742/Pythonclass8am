{
 "cells": [
  {
   "cell_type": "code",
   "execution_count": 4,
   "metadata": {},
   "outputs": [
    {
     "name": "stdout",
     "output_type": "stream",
     "text": [
      "['string', 2, 'dog', 'gg', 1.1]\n"
     ]
    }
   ],
   "source": [
    "#append()   to add  mew value to list\n",
    "#insert() to add value with index\n",
    "a=[]\n",
    "a.append(\"string\")\n",
    "a.append(2)\n",
    "a.append(1.1)\n",
    "a.insert(2,\"dog\")\n",
    "a.insert(-1,\"gg\")\n",
    "print(a)"
   ]
  },
  {
   "cell_type": "code",
   "execution_count": 5,
   "metadata": {},
   "outputs": [],
   "source": [
    "# l =[]\n",
    "# n = int(innput(\"enter n \"))\n",
    "# for i in range(n):\n",
    "#     x = int(input(\"enter x = \"))\n",
    "#     l.append(x)\n",
    "# print(\"the list is= \",l)\n",
    "# print(\"the sum is= \",sum(l) )\n",
    "# print(\"the max value=\",max(l))\n",
    "# print(\"the min value=\",min(l))"
   ]
  },
  {
   "cell_type": "code",
   "execution_count": 7,
   "metadata": {},
   "outputs": [
    {
     "name": "stdout",
     "output_type": "stream",
     "text": [
      "[3, 4, 'apple', 'dog,5,6']\n"
     ]
    }
   ],
   "source": [
    "#del() can delete multiple value,accepts mutiple arguments and delete a list\n",
    "#remove() delete single  value\n",
    "#pop()delete from frst list and  to move to diff list\n",
    "#clear() clearalldata from list\n",
    "a=[1,2,3,4,\"apple\",\"dog,5,6\"]\n",
    "del a[0:2]\n",
    "print(a)"
   ]
  },
  {
   "cell_type": "code",
   "execution_count": 8,
   "metadata": {},
   "outputs": [
    {
     "name": "stdout",
     "output_type": "stream",
     "text": [
      "[1, 2, 3, 4, 'dog,5,6']\n"
     ]
    }
   ],
   "source": [
    "a=[1,2,3,4,\"apple\",\"dog,5,6\"]\n",
    "a.remove(\"apple\")\n",
    "print(a)"
   ]
  },
  {
   "cell_type": "code",
   "execution_count": 10,
   "metadata": {},
   "outputs": [
    {
     "name": "stdout",
     "output_type": "stream",
     "text": [
      "dog,5,6\n",
      "[1, 2, 3, 4, 'apple']\n"
     ]
    }
   ],
   "source": [
    "a=[1,2,3,4,\"apple\",\"dog,5,6\"]\n",
    "b = a.pop(5)\n",
    "print(b)\n",
    "print(a)"
   ]
  },
  {
   "cell_type": "code",
   "execution_count": 11,
   "metadata": {},
   "outputs": [
    {
     "name": "stdout",
     "output_type": "stream",
     "text": [
      "['ball', 'cat']\n"
     ]
    }
   ],
   "source": [
    "a=[\"apple\",\"ball\",\"apple\",\"cat\",\"apple\"]\n",
    "a.remove(\"apple\")\n",
    "a.remove(\"apple\")\n",
    "a.remove(\"apple\")\n",
    "print(a)"
   ]
  },
  {
   "cell_type": "code",
   "execution_count": 12,
   "metadata": {},
   "outputs": [
    {
     "name": "stdout",
     "output_type": "stream",
     "text": [
      "['ball', 'cat']\n"
     ]
    }
   ],
   "source": [
    "a=[\"apple\",\"ball\",\"apple\",\"cat\",\"apple\"]\n",
    "# n=a.count(a)\n",
    "for i in a:\n",
    "    a.remove(\"apple\")\n",
    "\n",
    "print(a)"
   ]
  },
  {
   "cell_type": "code",
   "execution_count": 14,
   "metadata": {},
   "outputs": [
    {
     "name": "stdout",
     "output_type": "stream",
     "text": [
      "['ball', 'cat']\n"
     ]
    }
   ],
   "source": [
    "a=[\"apple\",\"ball\",\"apple\",\"cat\",\"apple\"]\n",
    "n=a.count(\"apple\")\n",
    "for i in range(n):\n",
    "    a.remove(\"apple\")\n",
    "\n",
    "print(a)"
   ]
  },
  {
   "cell_type": "code",
   "execution_count": 15,
   "metadata": {},
   "outputs": [
    {
     "name": "stdout",
     "output_type": "stream",
     "text": [
      "['ball', 'cat']\n"
     ]
    }
   ],
   "source": [
    "b=[]\n",
    "a=[\"apple\",\"ball\",\"apple\",\"cat\",\"apple\"]\n",
    "for i in a:\n",
    "    if i == \"apple\":\n",
    "        continue\n",
    "    b.append(i)\n",
    "\n",
    "print(b)"
   ]
  },
  {
   "cell_type": "code",
   "execution_count": 16,
   "metadata": {},
   "outputs": [
    {
     "name": "stdout",
     "output_type": "stream",
     "text": [
      "['ball', 'cat']\n"
     ]
    }
   ],
   "source": [
    "b=[]\n",
    "a=[\"apple\",\"ball\",\"apple\",\"cat\",\"apple\"]\n",
    "n =len(a)\n",
    "for i in range(n):\n",
    "    if a[i] == \"apple\":\n",
    "        continue\n",
    "    b.append(a[i])\n",
    "\n",
    "print(b)"
   ]
  },
  {
   "cell_type": "code",
   "execution_count": 17,
   "metadata": {},
   "outputs": [
    {
     "data": {
      "text/plain": [
       "3"
      ]
     },
     "execution_count": 17,
     "metadata": {},
     "output_type": "execute_result"
    }
   ],
   "source": [
    "#list inside  list\n",
    "a=[[1,2,3],[4,5,6],[7,8,9]]\n",
    "type(a)\n",
    "len(a)\n"
   ]
  },
  {
   "cell_type": "code",
   "execution_count": 22,
   "metadata": {},
   "outputs": [
    {
     "name": "stdout",
     "output_type": "stream",
     "text": [
      "enter n 2\n",
      "ente name ee\n",
      "enterage  3\n",
      "enter address rr\n",
      "ente name tt\n",
      "enterage  4\n",
      "enter address yy\n",
      "[[1, 'ee', '3', 'rr'], [2, 'tt', '4', 'yy']]\n"
     ]
    }
   ],
   "source": [
    "data=[]\n",
    "n=int(input(\"enter n \"))\n",
    "for i in range(1,n+1):\n",
    "    name=input(\"ente name \")\n",
    "    age = input(\"enterage  \")\n",
    "    add = input(\"enter address \")\n",
    "    info = [i,name,age,add]\n",
    "    data.append(info)\n",
    "    \n",
    "print(data)"
   ]
  },
  {
   "cell_type": "code",
   "execution_count": 23,
   "metadata": {},
   "outputs": [
    {
     "name": "stdout",
     "output_type": "stream",
     "text": [
      "enter sn 1\n"
     ]
    },
    {
     "data": {
      "text/plain": [
       "[1, 'ee', '3', 'rr']"
      ]
     },
     "execution_count": 23,
     "metadata": {},
     "output_type": "execute_result"
    }
   ],
   "source": [
    "sn=int(input(\"enter sn \"))\n",
    "data[sn-1]\n"
   ]
  },
  {
   "cell_type": "code",
   "execution_count": 25,
   "metadata": {},
   "outputs": [
    {
     "name": "stdout",
     "output_type": "stream",
     "text": [
      "[]\n"
     ]
    }
   ],
   "source": [
    "a=[1,2,3,4,5]\n",
    "a.clear()\n",
    "print(a)"
   ]
  },
  {
   "cell_type": "code",
   "execution_count": 26,
   "metadata": {},
   "outputs": [
    {
     "name": "stdout",
     "output_type": "stream",
     "text": [
      "[]\n"
     ]
    }
   ],
   "source": [
    "a=[1,2,3,4,5]\n",
    "del a[:]\n",
    "print(a)"
   ]
  },
  {
   "cell_type": "code",
   "execution_count": 1,
   "metadata": {},
   "outputs": [],
   "source": [
    "a=[1,2,3,4,5]\n",
    "del a\n"
   ]
  },
  {
   "cell_type": "code",
   "execution_count": 2,
   "metadata": {},
   "outputs": [
    {
     "name": "stdout",
     "output_type": "stream",
     "text": [
      "[[1, 2, 3], [4, 5, 6], [7, 8, 9]]\n"
     ]
    }
   ],
   "source": [
    "a=[[1,2,3],[4,5,6]]\n",
    "b=[[7,8,9]]\n",
    "print(a+b)"
   ]
  },
  {
   "cell_type": "code",
   "execution_count": 4,
   "metadata": {},
   "outputs": [
    {
     "data": {
      "text/plain": [
       "[[1, 2, 3], [4, 5, 6], [1, 2, 3], [4, 5, 6]]"
      ]
     },
     "execution_count": 4,
     "metadata": {},
     "output_type": "execute_result"
    }
   ],
   "source": [
    "a=[[1,2,3],[4,5,6]]\n",
    "a*2"
   ]
  },
  {
   "cell_type": "code",
   "execution_count": 1,
   "metadata": {},
   "outputs": [
    {
     "name": "stdout",
     "output_type": "stream",
     "text": [
      "enter n 2\n",
      "ente name ee\n",
      "enter age  4\n",
      "enter address tt\n",
      "ente name rr\n",
      "enter age  5\n",
      "enter address yy\n",
      "[[1, 'ee', '4', 'tt'], [2, 'rr', '5', 'yy']]\n"
     ]
    }
   ],
   "source": [
    "#### create list in list wuth user input\n",
    "data=[]\n",
    "n=int(input(\"enter n \"))\n",
    "for i in range(1,n+1):\n",
    "    name=input(\"ente name \")\n",
    "    age = input(\"enter age  \")\n",
    "    add = input(\"enter address \")\n",
    "    info = [[i,name,age,add]]\n",
    "    data = data+info\n",
    "    \n",
    "print(data)\n",
    "    "
   ]
  },
  {
   "cell_type": "code",
   "execution_count": 2,
   "metadata": {},
   "outputs": [
    {
     "name": "stdout",
     "output_type": "stream",
     "text": [
      "enter sn 2\n"
     ]
    },
    {
     "data": {
      "text/plain": [
       "[2, 'rr', '5', 'yy']"
      ]
     },
     "execution_count": 2,
     "metadata": {},
     "output_type": "execute_result"
    }
   ],
   "source": [
    "sn=int(input(\"enter sn \"))\n",
    "data[sn-1]"
   ]
  },
  {
   "cell_type": "code",
   "execution_count": 3,
   "metadata": {},
   "outputs": [
    {
     "name": "stdout",
     "output_type": "stream",
     "text": [
      "enter value to search rr\n",
      "[2, 'rr', '5', 'yy']\n",
      "yes\n"
     ]
    }
   ],
   "source": [
    "search=input(\"enter value to search \")\n",
    "for i in data:\n",
    "    if search in i:\n",
    "        print(i)\n",
    "        print(\"yes\")"
   ]
  },
  {
   "cell_type": "code",
   "execution_count": 6,
   "metadata": {},
   "outputs": [
    {
     "name": "stdout",
     "output_type": "stream",
     "text": [
      "enter value to search ee\n",
      "[1, 'ee', '4', 'tt']\n",
      "[1, 'ee', '6', 'zz']\n",
      "yes\n"
     ]
    }
   ],
   "source": [
    "#rpted value search\n",
    "data=[[1, 'ee', '4', 'tt'], [2, 'rr', '5', 'yy'],[1, 'ee', '6', 'zz']]\n",
    "search=input(\"enter value to search \")\n",
    "for i in data:\n",
    "    if search in i:\n",
    "        print(i)\n",
    "print(\"yes\")"
   ]
  },
  {
   "cell_type": "code",
   "execution_count": 9,
   "metadata": {},
   "outputs": [
    {
     "name": "stdout",
     "output_type": "stream",
     "text": [
      "enter n 2\n",
      "ente name ee\n",
      "enter price  10\n",
      "enter quantity 2\n",
      "ente name rr\n",
      "enter price  20\n",
      "enter quantity 4\n",
      "[[1, 'ee', 10, 2, 20], [2, 'rr', 20, 4, 80]]\n",
      "100\n"
     ]
    }
   ],
   "source": [
    "data=[]\n",
    "allTotal=0\n",
    "n=int(input(\"enter n \"))\n",
    "for i in range(1,n+1):\n",
    "    name=input(\"ente name \")\n",
    "    price = int(input(\"enter price  \"))\n",
    "    quantity = int(input(\"enter quantity \"))\n",
    "    total=price*quantity\n",
    "    info =[i,name,price,quantity,total]\n",
    "    allTotal=allTotal+total\n",
    "    data.append(info)\n",
    "print(data)\n",
    "print(allTotal)\n",
    "    "
   ]
  },
  {
   "cell_type": "code",
   "execution_count": 8,
   "metadata": {},
   "outputs": [
    {
     "name": "stdout",
     "output_type": "stream",
     "text": [
      "enter value to search ee\n",
      "[[2, 'rr', 50, 4]]\n"
     ]
    }
   ],
   "source": [
    "#delete\n",
    "search=input(\"enter value to search \")\n",
    "for i in data:\n",
    "    if search in i:\n",
    "        data.remove(i)\n",
    "print(data)"
   ]
  },
  {
   "cell_type": "code",
   "execution_count": 10,
   "metadata": {},
   "outputs": [
    {
     "name": "stdout",
     "output_type": "stream",
     "text": [
      "enter new quantity 3\n",
      "enter index 0\n"
     ]
    }
   ],
   "source": [
    "#update\n",
    "a=[[1, 'ee', 10, 2, 20], [2, 'rr', 20, 4, 80]]\n",
    "q=int(input(\"enter new quantity \"))\n",
    "i=int(input(\"enter index \"))\n",
    "a[i][3]=q\n",
    "price=a[i][2]\n",
    "newTotal=price*q\n",
    "a[i][4]=newTotal\n"
   ]
  },
  {
   "cell_type": "code",
   "execution_count": 11,
   "metadata": {},
   "outputs": [
    {
     "name": "stdout",
     "output_type": "stream",
     "text": [
      "[[1, 'ee', 10, 3, 30], [2, 'rr', 20, 4, 80]]\n"
     ]
    }
   ],
   "source": [
    "print(a)"
   ]
  },
  {
   "cell_type": "code",
   "execution_count": 2,
   "metadata": {},
   "outputs": [
    {
     "name": "stdout",
     "output_type": "stream",
     "text": [
      "enter name ee\n",
      "enter new quantity 4\n",
      "[[1, 'ee', 10, 4, 40], [2, 'rr', 20, 4, 80]]\n"
     ]
    }
   ],
   "source": [
    "#update with auto index\n",
    "a=[[1, 'ee', 10, 2, 20], [2, 'rr', 20, 4, 80]]\n",
    "search =input(\"enter name \")\n",
    "for i in range(len(a)):\n",
    "    if search in a[i]:\n",
    "        index = i\n",
    "q=int(input(\"enter new quantity \"))\n",
    "a[index][3]=q\n",
    "price=a[index][2]\n",
    "newTotal=price*q\n",
    "a[index][4]=newTotal\n",
    "print(a)"
   ]
  },
  {
   "cell_type": "code",
   "execution_count": null,
   "metadata": {},
   "outputs": [],
   "source": []
  }
 ],
 "metadata": {
  "kernelspec": {
   "display_name": "Python 3",
   "language": "python",
   "name": "python3"
  },
  "language_info": {
   "codemirror_mode": {
    "name": "ipython",
    "version": 3
   },
   "file_extension": ".py",
   "mimetype": "text/x-python",
   "name": "python",
   "nbconvert_exporter": "python",
   "pygments_lexer": "ipython3",
   "version": "3.8.5"
  }
 },
 "nbformat": 4,
 "nbformat_minor": 4
}
